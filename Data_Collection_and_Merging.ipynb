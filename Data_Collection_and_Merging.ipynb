{
  "cells": [
    {
      "cell_type": "markdown",
      "source": [
        "Data collection  will be demonstrated in this notebook. We will first install and import the necessary packages to proceed with gathering our data."
      ],
      "metadata": {
        "id": "2w3h300P5oyg"
      }
    },
    {
      "cell_type": "markdown",
      "source": [
        "#Importing packages"
      ],
      "metadata": {
        "id": "xlp5EQ165kca"
      }
    },
    {
      "cell_type": "code",
      "execution_count": null,
      "metadata": {
        "id": "2zdfHj13_fgF",
        "colab": {
          "base_uri": "https://localhost:8080/"
        },
        "outputId": "12cbeb6d-f237-4256-d617-6e54b77c08af"
      },
      "outputs": [
        {
          "output_type": "stream",
          "name": "stdout",
          "text": [
            "Requirement already satisfied: yfinance in /usr/local/lib/python3.10/dist-packages (0.2.27)\n",
            "Requirement already satisfied: pandas>=1.3.0 in /usr/local/lib/python3.10/dist-packages (from yfinance) (1.5.3)\n",
            "Requirement already satisfied: numpy>=1.16.5 in /usr/local/lib/python3.10/dist-packages (from yfinance) (1.23.5)\n",
            "Requirement already satisfied: requests>=2.31 in /usr/local/lib/python3.10/dist-packages (from yfinance) (2.31.0)\n",
            "Requirement already satisfied: multitasking>=0.0.7 in /usr/local/lib/python3.10/dist-packages (from yfinance) (0.0.11)\n",
            "Requirement already satisfied: lxml>=4.9.1 in /usr/local/lib/python3.10/dist-packages (from yfinance) (4.9.3)\n",
            "Requirement already satisfied: appdirs>=1.4.4 in /usr/local/lib/python3.10/dist-packages (from yfinance) (1.4.4)\n",
            "Requirement already satisfied: pytz>=2022.5 in /usr/local/lib/python3.10/dist-packages (from yfinance) (2022.7.1)\n",
            "Requirement already satisfied: frozendict>=2.3.4 in /usr/local/lib/python3.10/dist-packages (from yfinance) (2.3.8)\n",
            "Requirement already satisfied: beautifulsoup4>=4.11.1 in /usr/local/lib/python3.10/dist-packages (from yfinance) (4.11.2)\n",
            "Requirement already satisfied: html5lib>=1.1 in /usr/local/lib/python3.10/dist-packages (from yfinance) (1.1)\n",
            "Requirement already satisfied: soupsieve>1.2 in /usr/local/lib/python3.10/dist-packages (from beautifulsoup4>=4.11.1->yfinance) (2.4.1)\n",
            "Requirement already satisfied: six>=1.9 in /usr/local/lib/python3.10/dist-packages (from html5lib>=1.1->yfinance) (1.16.0)\n",
            "Requirement already satisfied: webencodings in /usr/local/lib/python3.10/dist-packages (from html5lib>=1.1->yfinance) (0.5.1)\n",
            "Requirement already satisfied: python-dateutil>=2.8.1 in /usr/local/lib/python3.10/dist-packages (from pandas>=1.3.0->yfinance) (2.8.2)\n",
            "Requirement already satisfied: charset-normalizer<4,>=2 in /usr/local/lib/python3.10/dist-packages (from requests>=2.31->yfinance) (3.2.0)\n",
            "Requirement already satisfied: idna<4,>=2.5 in /usr/local/lib/python3.10/dist-packages (from requests>=2.31->yfinance) (3.4)\n",
            "Requirement already satisfied: urllib3<3,>=1.21.1 in /usr/local/lib/python3.10/dist-packages (from requests>=2.31->yfinance) (1.26.16)\n",
            "Requirement already satisfied: certifi>=2017.4.17 in /usr/local/lib/python3.10/dist-packages (from requests>=2.31->yfinance) (2023.7.22)\n",
            "Requirement already satisfied: pandas-datareader in /usr/local/lib/python3.10/dist-packages (0.10.0)\n",
            "Requirement already satisfied: lxml in /usr/local/lib/python3.10/dist-packages (from pandas-datareader) (4.9.3)\n",
            "Requirement already satisfied: pandas>=0.23 in /usr/local/lib/python3.10/dist-packages (from pandas-datareader) (1.5.3)\n",
            "Requirement already satisfied: requests>=2.19.0 in /usr/local/lib/python3.10/dist-packages (from pandas-datareader) (2.31.0)\n",
            "Requirement already satisfied: python-dateutil>=2.8.1 in /usr/local/lib/python3.10/dist-packages (from pandas>=0.23->pandas-datareader) (2.8.2)\n",
            "Requirement already satisfied: pytz>=2020.1 in /usr/local/lib/python3.10/dist-packages (from pandas>=0.23->pandas-datareader) (2022.7.1)\n",
            "Requirement already satisfied: numpy>=1.21.0 in /usr/local/lib/python3.10/dist-packages (from pandas>=0.23->pandas-datareader) (1.23.5)\n",
            "Requirement already satisfied: charset-normalizer<4,>=2 in /usr/local/lib/python3.10/dist-packages (from requests>=2.19.0->pandas-datareader) (3.2.0)\n",
            "Requirement already satisfied: idna<4,>=2.5 in /usr/local/lib/python3.10/dist-packages (from requests>=2.19.0->pandas-datareader) (3.4)\n",
            "Requirement already satisfied: urllib3<3,>=1.21.1 in /usr/local/lib/python3.10/dist-packages (from requests>=2.19.0->pandas-datareader) (1.26.16)\n",
            "Requirement already satisfied: certifi>=2017.4.17 in /usr/local/lib/python3.10/dist-packages (from requests>=2.19.0->pandas-datareader) (2023.7.22)\n",
            "Requirement already satisfied: six>=1.5 in /usr/local/lib/python3.10/dist-packages (from python-dateutil>=2.8.1->pandas>=0.23->pandas-datareader) (1.16.0)\n",
            "Requirement already satisfied: pandas-datareader in /usr/local/lib/python3.10/dist-packages (0.10.0)\n",
            "Requirement already satisfied: lxml in /usr/local/lib/python3.10/dist-packages (from pandas-datareader) (4.9.3)\n",
            "Requirement already satisfied: pandas>=0.23 in /usr/local/lib/python3.10/dist-packages (from pandas-datareader) (1.5.3)\n",
            "Requirement already satisfied: requests>=2.19.0 in /usr/local/lib/python3.10/dist-packages (from pandas-datareader) (2.31.0)\n",
            "Requirement already satisfied: python-dateutil>=2.8.1 in /usr/local/lib/python3.10/dist-packages (from pandas>=0.23->pandas-datareader) (2.8.2)\n",
            "Requirement already satisfied: pytz>=2020.1 in /usr/local/lib/python3.10/dist-packages (from pandas>=0.23->pandas-datareader) (2022.7.1)\n",
            "Requirement already satisfied: numpy>=1.21.0 in /usr/local/lib/python3.10/dist-packages (from pandas>=0.23->pandas-datareader) (1.23.5)\n",
            "Requirement already satisfied: charset-normalizer<4,>=2 in /usr/local/lib/python3.10/dist-packages (from requests>=2.19.0->pandas-datareader) (3.2.0)\n",
            "Requirement already satisfied: idna<4,>=2.5 in /usr/local/lib/python3.10/dist-packages (from requests>=2.19.0->pandas-datareader) (3.4)\n",
            "Requirement already satisfied: urllib3<3,>=1.21.1 in /usr/local/lib/python3.10/dist-packages (from requests>=2.19.0->pandas-datareader) (1.26.16)\n",
            "Requirement already satisfied: certifi>=2017.4.17 in /usr/local/lib/python3.10/dist-packages (from requests>=2.19.0->pandas-datareader) (2023.7.22)\n",
            "Requirement already satisfied: six>=1.5 in /usr/local/lib/python3.10/dist-packages (from python-dateutil>=2.8.1->pandas>=0.23->pandas-datareader) (1.16.0)\n"
          ]
        }
      ],
      "source": [
        "!pip install yfinance\n",
        "!pip install pandas-datareader\n",
        "!pip install --upgrade pandas-datareader\n",
        "import yfinance as yf\n",
        "import pandas as pd\n",
        "import numpy as np\n",
        "import pandas_datareader as pdr\n",
        "import datetime as dt\n",
        "import statsmodels.formula.api as smf\n",
        "import statsmodels.api as sm"
      ]
    },
    {
      "cell_type": "markdown",
      "source": [
        "#1. Load the S&P Cryptocurrency BDM Index from a CSV file\n",
        "\n",
        "*Bloomberg Ticker : SPCBDM*\n",
        "\n",
        "The [S&P Cryptocurrency Broad Digital Market Index](https://www.spglobal.com/spdji/en/indices/digital-assets/sp-cryptocurrency-broad-digital-market-index/#overview) is a market-cap-weighted index that tracks the performance of digital assets listed on recognized open digital exchanges that meet minimum liquidity and market capitalization criteria that are covered by Lukka.\n",
        "\n",
        "The index is meant to reflect a broad investable universe. The index was launched in July 2021 and includes more than 240 coins at launch. The index is rebalanced quarterly and the constituents are selected based on a variety of factors, including liquidity, market capitalization, and trading volume.\n",
        "\n",
        "The S&P Cryptocurrency BDM Index is a useful tool for investors who want to track the performance of the cryptocurrency market as a whole. It can also be used to compare the performance of different cryptocurrencies against each other."
      ],
      "metadata": {
        "id": "zAYoR3z1CKKJ"
      }
    },
    {
      "cell_type": "code",
      "execution_count": null,
      "metadata": {
        "id": "x3hY2GCSKNDi"
      },
      "outputs": [],
      "source": [
        "# Load the S&P Cryptocurrency BDM Index data\n",
        "Crypto = pd.read_csv('/content/PerformanceGraphExport2.csv')"
      ]
    },
    {
      "cell_type": "markdown",
      "source": [
        "#2. Download data from Yahoo Finance\n",
        "\n",
        "![yfinance.png](data:image/png;base64,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)\n",
        "\n",
        "In this section, we will utilise the powerful yfinance plugin to download data for the S&P500 index and selected exchange rates (GBP/JPY, EUR/CAD, AUD/CNY)."
      ],
      "metadata": {
        "id": "fi4KNCbT_0Gh"
      }
    },
    {
      "cell_type": "code",
      "execution_count": null,
      "metadata": {
        "colab": {
          "base_uri": "https://localhost:8080/"
        },
        "id": "ywCv01ocJ34d",
        "outputId": "b04f3229-c5e1-41d0-a81e-617f288603e1"
      },
      "outputs": [
        {
          "output_type": "stream",
          "name": "stdout",
          "text": [
            "\r[*********************100%***********************]  1 of 1 completed\n"
          ]
        }
      ],
      "source": [
        "# Download S&P500 data using yfinance\n",
        "sp500_data = yf.download('^GSPC', start='2017-02-01', end='2023-05-01')\n",
        "dateparse = lambda dates: pd.datetime.strptime(dates, '%Y-%m-%d')\n",
        "\n",
        "# Extract the 'Close' prices\n",
        "sp500_close = sp500_data['Close']"
      ]
    },
    {
      "cell_type": "code",
      "execution_count": null,
      "metadata": {
        "colab": {
          "base_uri": "https://localhost:8080/"
        },
        "id": "Efms4afgKnTm",
        "outputId": "a505f981-ac31-4c34-a640-ca2d17b74c49"
      },
      "outputs": [
        {
          "output_type": "stream",
          "name": "stdout",
          "text": [
            "[*********************100%***********************]  3 of 3 completed\n"
          ]
        }
      ],
      "source": [
        "# Download the exchange rates data using yfinance\n",
        "tickers = ['GBPJPY=X', 'EURCAD=X', 'AUDCNY=X']\n",
        "FX_rates = yf.download(tickers, start='2017-02-01', end='2023-05-01')\n",
        "dateparse = lambda dates: pd.datetime.strptime(dates, '%Y-%m-%d')"
      ]
    },
    {
      "cell_type": "code",
      "execution_count": null,
      "metadata": {
        "id": "Du5N6VK9KtVn"
      },
      "outputs": [],
      "source": [
        "# Extract the 'Close' prices\n",
        "GBP_JPY = FX_rates['Close']['GBPJPY=X']\n",
        "EUR_CAD = FX_rates['Close']['EURCAD=X']\n",
        "AUD_CNY = FX_rates['Close']['AUDCNY=X']"
      ]
    },
    {
      "cell_type": "code",
      "execution_count": null,
      "metadata": {
        "id": "d1X4Ngu2KuXW"
      },
      "outputs": [],
      "source": [
        "# Merge the S&P500 data with Exchange rates data based on the date index\n",
        "merged_data = pd.merge(sp500_close, GBP_JPY, left_index=True, right_index=True)\n",
        "merged_data = pd.merge(merged_data, EUR_CAD, left_index=True, right_index=True)\n",
        "merged_data = pd.merge(merged_data, AUD_CNY, left_index=True, right_index=True)"
      ]
    },
    {
      "cell_type": "code",
      "source": [
        "# Merge the previous data from yfinance and the S&P Cryptocurrency BDM Index data based on date\n",
        "Crypto['Date'] = pd.to_datetime(Crypto['Date'])\n",
        "Crypto.set_index('Date', inplace=True)\n",
        "merged_data = pd.merge(merged_data, Crypto, left_index=True, right_index=True)"
      ],
      "metadata": {
        "id": "HcxT3rPFEqaN"
      },
      "execution_count": null,
      "outputs": []
    },
    {
      "cell_type": "markdown",
      "source": [
        "#3. Download short-term interest rates and inflation data from FRED:\n",
        "![FRED.png](data:image/png;base64,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)\n",
        "\n",
        "FRED is a database of more than 800,000 economic data series from over 100 sources covering issues and information relating to banking, business, consumer and producer price indices, employment, population, exchange rates, gross domestic product, interest rates, trade and international transactions, and U.S. financial data. FRED provides data and data services to the public for non-commercial, educational, and personal uses subject to a few prohibitions.\n",
        "\n",
        "[3-Month Treasury Bill Secondary Market Rate, Discount Basis](https://fred.stlouisfed.org/series/DTB3)\n",
        "\n",
        "[Consumer Price Index: Total All Items for the United States](https://fred.stlouisfed.org/series/CPALTT01USM657N)"
      ],
      "metadata": {
        "id": "MUjbRZgd6PTS"
      }
    },
    {
      "cell_type": "code",
      "execution_count": null,
      "metadata": {
        "id": "XrTtI37ZzR57"
      },
      "outputs": [],
      "source": [
        "Int_rate = pdr.data.DataReader('DTB3', 'fred', start='2017-02-28', end='2023-05-01')\n",
        "Int_rate.columns = ['Int_rates']\n",
        "Int_rate = Int_rate.dropna()\n",
        "Int_rate.tail()"
      ]
    },
    {
      "cell_type": "code",
      "execution_count": null,
      "metadata": {
        "id": "b92c6qJez9lN"
      },
      "outputs": [],
      "source": [
        "Inflation = pdr.data.DataReader('CPALTT01USM657N', 'fred', start='2017-02-28', end='2023-05-01')\n",
        "Inflation.columns = ['Inflation']\n",
        "Inflation = Inflation.dropna()\n",
        "Inflation.tail()"
      ]
    },
    {
      "cell_type": "markdown",
      "source": [
        "Since the CPI data is in monthly frequency, we will need to resample it into daily frequency to match the rest of our variables. In this case, interpolation method was used."
      ],
      "metadata": {
        "id": "Jblc_ZB48TIl"
      }
    },
    {
      "cell_type": "code",
      "execution_count": null,
      "metadata": {
        "id": "vf7QuWpcpP4F"
      },
      "outputs": [],
      "source": [
        "# Resampling the CPI from annually to daily frequency\n",
        "Inflation_d = Inflation.resample('D').interpolate(method='linear')\n",
        "Inflation_d.tail()"
      ]
    },
    {
      "cell_type": "markdown",
      "source": [
        "#4. Load the Economic Policy Uncertainty (EPU) data from a CSV file\n",
        "\n",
        "![EPU.png](data:image/png;base64,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)\n",
        "\n",
        "The Economic Policy Uncertainty (EPU) index was developed by Scott R. Baker, Nicholas Bloom, and Steven J. Davis [1](https://www.policyuncertainty.com/about.html). They developed a new method to measure economic policy uncertainty and tested its dynamic relationship with output, investment, and employment. The EPU index is now widely used by policymakers, researchers, and analysts to assess the effects of policy uncertainty on investment decisions, business confidence, and overall economic performance.\n",
        "\n",
        "[US EPU (Monthly, Daily, Categorical)](https://www.policyuncertainty.com/us_monthly.html)\n",
        "\n",
        "For this research, we will be using the \"News Coverage about Policy-related Economic Uncertainty\". It is an index of search results from 10 large newspapers (USA Today, the Miami Herald, the Chicago Tribune, the Washington Post, the Los Angeles Times, the Boston Globe, the San Francisco Chronicle, the Dallas Morning News, the Houston Chronicle, and the WSJ). Monthly searches of each paper for terms related to economic and policy uncertainty were done to construct the index. In particular, the researchers search for articles containing the term 'uncertainty' or 'uncertain', the terms 'economic' or 'economy' and one or more of the following terms: 'congress', 'legislation', 'white house', 'regulation', 'federal reserve', or 'deficit'.\n",
        "\n",
        "The data was downloaded from the official site and saved as a CSV file. Similarly, upscaling will be performed to match the daily frequency of our dataset."
      ],
      "metadata": {
        "id": "9W8t0Cvy8juw"
      }
    },
    {
      "cell_type": "code",
      "execution_count": null,
      "metadata": {
        "id": "oBrDNE-T5imC"
      },
      "outputs": [],
      "source": [
        "# Load the Economic Policy Uncertainty (EPU) data\n",
        "EPU = pd.read_csv('/content/US_Policy_Uncertainty_Data2.csv')\n",
        "EPU['Date'] = pd.to_datetime(EPU['Date'])\n",
        "EPU.set_index('Date', inplace=True)\n",
        "EPU = EPU.dropna()\n",
        "\n",
        "# Resampling the EPU index from monthly to daily frequency\n",
        "EPU_d = EPU.resample('D').interpolate(method='linear')\n",
        "EPU_d.tail"
      ]
    },
    {
      "cell_type": "markdown",
      "source": [
        "#5. Merge all variables into one data frame"
      ],
      "metadata": {
        "id": "P87dHJPdEUMV"
      }
    },
    {
      "cell_type": "code",
      "execution_count": null,
      "metadata": {
        "colab": {
          "base_uri": "https://localhost:8080/",
          "height": 206
        },
        "id": "cqlJdPsUKyWm",
        "outputId": "99b68882-9367-4736-ed9f-15bb8d954b40"
      },
      "outputs": [
        {
          "output_type": "execute_result",
          "data": {
            "text/plain": [
              "                  Close    GBPJPY=X  EURCAD=X  AUDCNY=X  \\\n",
              "2023-04-24  4137.040039  166.729996   1.48770  4.607537   \n",
              "2023-04-25  4071.629883  167.584000   1.49634  4.616732   \n",
              "2023-04-26  4055.989990  165.977005   1.49497  4.593824   \n",
              "2023-04-27  4135.350098  166.410004   1.50546  4.573267   \n",
              "2023-04-28  4169.479980  167.070007   1.50020  4.585211   \n",
              "\n",
              "            S&P Cryptocurrency Broad Digital Market Index (USD)  Int_rates  \\\n",
              "2023-04-24                                            2114.64         5.04   \n",
              "2023-04-25                                            2124.01         4.97   \n",
              "2023-04-26                                            2130.29         5.00   \n",
              "2023-04-27                                            2249.02         5.03   \n",
              "2023-04-28                                            2218.22         4.95   \n",
              "\n",
              "            Inflation  News_Based_Policy_Uncert_Index  \n",
              "2023-04-24   0.311124                      195.666667  \n",
              "2023-04-25   0.302656                      197.000000  \n",
              "2023-04-26   0.294187                      198.333333  \n",
              "2023-04-27   0.285718                      199.666667  \n",
              "2023-04-28   0.277250                      201.000000  "
            ],
            "text/html": [
              "\n",
              "\n",
              "  <div id=\"df-f0a82b00-cd20-4889-88cd-a6a0faf6023f\">\n",
              "    <div class=\"colab-df-container\">\n",
              "      <div>\n",
              "<style scoped>\n",
              "    .dataframe tbody tr th:only-of-type {\n",
              "        vertical-align: middle;\n",
              "    }\n",
              "\n",
              "    .dataframe tbody tr th {\n",
              "        vertical-align: top;\n",
              "    }\n",
              "\n",
              "    .dataframe thead th {\n",
              "        text-align: right;\n",
              "    }\n",
              "</style>\n",
              "<table border=\"1\" class=\"dataframe\">\n",
              "  <thead>\n",
              "    <tr style=\"text-align: right;\">\n",
              "      <th></th>\n",
              "      <th>Close</th>\n",
              "      <th>GBPJPY=X</th>\n",
              "      <th>EURCAD=X</th>\n",
              "      <th>AUDCNY=X</th>\n",
              "      <th>S&amp;P Cryptocurrency Broad Digital Market Index (USD)</th>\n",
              "      <th>Int_rates</th>\n",
              "      <th>Inflation</th>\n",
              "      <th>News_Based_Policy_Uncert_Index</th>\n",
              "    </tr>\n",
              "  </thead>\n",
              "  <tbody>\n",
              "    <tr>\n",
              "      <th>2023-04-24</th>\n",
              "      <td>4137.040039</td>\n",
              "      <td>166.729996</td>\n",
              "      <td>1.48770</td>\n",
              "      <td>4.607537</td>\n",
              "      <td>2114.64</td>\n",
              "      <td>5.04</td>\n",
              "      <td>0.311124</td>\n",
              "      <td>195.666667</td>\n",
              "    </tr>\n",
              "    <tr>\n",
              "      <th>2023-04-25</th>\n",
              "      <td>4071.629883</td>\n",
              "      <td>167.584000</td>\n",
              "      <td>1.49634</td>\n",
              "      <td>4.616732</td>\n",
              "      <td>2124.01</td>\n",
              "      <td>4.97</td>\n",
              "      <td>0.302656</td>\n",
              "      <td>197.000000</td>\n",
              "    </tr>\n",
              "    <tr>\n",
              "      <th>2023-04-26</th>\n",
              "      <td>4055.989990</td>\n",
              "      <td>165.977005</td>\n",
              "      <td>1.49497</td>\n",
              "      <td>4.593824</td>\n",
              "      <td>2130.29</td>\n",
              "      <td>5.00</td>\n",
              "      <td>0.294187</td>\n",
              "      <td>198.333333</td>\n",
              "    </tr>\n",
              "    <tr>\n",
              "      <th>2023-04-27</th>\n",
              "      <td>4135.350098</td>\n",
              "      <td>166.410004</td>\n",
              "      <td>1.50546</td>\n",
              "      <td>4.573267</td>\n",
              "      <td>2249.02</td>\n",
              "      <td>5.03</td>\n",
              "      <td>0.285718</td>\n",
              "      <td>199.666667</td>\n",
              "    </tr>\n",
              "    <tr>\n",
              "      <th>2023-04-28</th>\n",
              "      <td>4169.479980</td>\n",
              "      <td>167.070007</td>\n",
              "      <td>1.50020</td>\n",
              "      <td>4.585211</td>\n",
              "      <td>2218.22</td>\n",
              "      <td>4.95</td>\n",
              "      <td>0.277250</td>\n",
              "      <td>201.000000</td>\n",
              "    </tr>\n",
              "  </tbody>\n",
              "</table>\n",
              "</div>\n",
              "      <button class=\"colab-df-convert\" onclick=\"convertToInteractive('df-f0a82b00-cd20-4889-88cd-a6a0faf6023f')\"\n",
              "              title=\"Convert this dataframe to an interactive table.\"\n",
              "              style=\"display:none;\">\n",
              "\n",
              "  <svg xmlns=\"http://www.w3.org/2000/svg\" height=\"24px\"viewBox=\"0 0 24 24\"\n",
              "       width=\"24px\">\n",
              "    <path d=\"M0 0h24v24H0V0z\" fill=\"none\"/>\n",
              "    <path d=\"M18.56 5.44l.94 2.06.94-2.06 2.06-.94-2.06-.94-.94-2.06-.94 2.06-2.06.94zm-11 1L8.5 8.5l.94-2.06 2.06-.94-2.06-.94L8.5 2.5l-.94 2.06-2.06.94zm10 10l.94 2.06.94-2.06 2.06-.94-2.06-.94-.94-2.06-.94 2.06-2.06.94z\"/><path d=\"M17.41 7.96l-1.37-1.37c-.4-.4-.92-.59-1.43-.59-.52 0-1.04.2-1.43.59L10.3 9.45l-7.72 7.72c-.78.78-.78 2.05 0 2.83L4 21.41c.39.39.9.59 1.41.59.51 0 1.02-.2 1.41-.59l7.78-7.78 2.81-2.81c.8-.78.8-2.07 0-2.86zM5.41 20L4 18.59l7.72-7.72 1.47 1.35L5.41 20z\"/>\n",
              "  </svg>\n",
              "      </button>\n",
              "\n",
              "\n",
              "\n",
              "    <div id=\"df-d1e9d2b9-b9bd-443f-b5e9-bd0ba4d67bf8\">\n",
              "      <button class=\"colab-df-quickchart\" onclick=\"quickchart('df-d1e9d2b9-b9bd-443f-b5e9-bd0ba4d67bf8')\"\n",
              "              title=\"Suggest charts.\"\n",
              "              style=\"display:none;\">\n",
              "\n",
              "<svg xmlns=\"http://www.w3.org/2000/svg\" height=\"24px\"viewBox=\"0 0 24 24\"\n",
              "     width=\"24px\">\n",
              "    <g>\n",
              "        <path d=\"M19 3H5c-1.1 0-2 .9-2 2v14c0 1.1.9 2 2 2h14c1.1 0 2-.9 2-2V5c0-1.1-.9-2-2-2zM9 17H7v-7h2v7zm4 0h-2V7h2v10zm4 0h-2v-4h2v4z\"/>\n",
              "    </g>\n",
              "</svg>\n",
              "      </button>\n",
              "    </div>\n",
              "\n",
              "<style>\n",
              "  .colab-df-quickchart {\n",
              "    background-color: #E8F0FE;\n",
              "    border: none;\n",
              "    border-radius: 50%;\n",
              "    cursor: pointer;\n",
              "    display: none;\n",
              "    fill: #1967D2;\n",
              "    height: 32px;\n",
              "    padding: 0 0 0 0;\n",
              "    width: 32px;\n",
              "  }\n",
              "\n",
              "  .colab-df-quickchart:hover {\n",
              "    background-color: #E2EBFA;\n",
              "    box-shadow: 0px 1px 2px rgba(60, 64, 67, 0.3), 0px 1px 3px 1px rgba(60, 64, 67, 0.15);\n",
              "    fill: #174EA6;\n",
              "  }\n",
              "\n",
              "  [theme=dark] .colab-df-quickchart {\n",
              "    background-color: #3B4455;\n",
              "    fill: #D2E3FC;\n",
              "  }\n",
              "\n",
              "  [theme=dark] .colab-df-quickchart:hover {\n",
              "    background-color: #434B5C;\n",
              "    box-shadow: 0px 1px 3px 1px rgba(0, 0, 0, 0.15);\n",
              "    filter: drop-shadow(0px 1px 2px rgba(0, 0, 0, 0.3));\n",
              "    fill: #FFFFFF;\n",
              "  }\n",
              "</style>\n",
              "\n",
              "    <script>\n",
              "      async function quickchart(key) {\n",
              "        const containerElement = document.querySelector('#' + key);\n",
              "        const charts = await google.colab.kernel.invokeFunction(\n",
              "            'suggestCharts', [key], {});\n",
              "      }\n",
              "    </script>\n",
              "\n",
              "      <script>\n",
              "\n",
              "function displayQuickchartButton(domScope) {\n",
              "  let quickchartButtonEl =\n",
              "    domScope.querySelector('#df-d1e9d2b9-b9bd-443f-b5e9-bd0ba4d67bf8 button.colab-df-quickchart');\n",
              "  quickchartButtonEl.style.display =\n",
              "    google.colab.kernel.accessAllowed ? 'block' : 'none';\n",
              "}\n",
              "\n",
              "        displayQuickchartButton(document);\n",
              "      </script>\n",
              "      <style>\n",
              "    .colab-df-container {\n",
              "      display:flex;\n",
              "      flex-wrap:wrap;\n",
              "      gap: 12px;\n",
              "    }\n",
              "\n",
              "    .colab-df-convert {\n",
              "      background-color: #E8F0FE;\n",
              "      border: none;\n",
              "      border-radius: 50%;\n",
              "      cursor: pointer;\n",
              "      display: none;\n",
              "      fill: #1967D2;\n",
              "      height: 32px;\n",
              "      padding: 0 0 0 0;\n",
              "      width: 32px;\n",
              "    }\n",
              "\n",
              "    .colab-df-convert:hover {\n",
              "      background-color: #E2EBFA;\n",
              "      box-shadow: 0px 1px 2px rgba(60, 64, 67, 0.3), 0px 1px 3px 1px rgba(60, 64, 67, 0.15);\n",
              "      fill: #174EA6;\n",
              "    }\n",
              "\n",
              "    [theme=dark] .colab-df-convert {\n",
              "      background-color: #3B4455;\n",
              "      fill: #D2E3FC;\n",
              "    }\n",
              "\n",
              "    [theme=dark] .colab-df-convert:hover {\n",
              "      background-color: #434B5C;\n",
              "      box-shadow: 0px 1px 3px 1px rgba(0, 0, 0, 0.15);\n",
              "      filter: drop-shadow(0px 1px 2px rgba(0, 0, 0, 0.3));\n",
              "      fill: #FFFFFF;\n",
              "    }\n",
              "  </style>\n",
              "\n",
              "      <script>\n",
              "        const buttonEl =\n",
              "          document.querySelector('#df-f0a82b00-cd20-4889-88cd-a6a0faf6023f button.colab-df-convert');\n",
              "        buttonEl.style.display =\n",
              "          google.colab.kernel.accessAllowed ? 'block' : 'none';\n",
              "\n",
              "        async function convertToInteractive(key) {\n",
              "          const element = document.querySelector('#df-f0a82b00-cd20-4889-88cd-a6a0faf6023f');\n",
              "          const dataTable =\n",
              "            await google.colab.kernel.invokeFunction('convertToInteractive',\n",
              "                                                     [key], {});\n",
              "          if (!dataTable) return;\n",
              "\n",
              "          const docLinkHtml = 'Like what you see? Visit the ' +\n",
              "            '<a target=\"_blank\" href=https://colab.research.google.com/notebooks/data_table.ipynb>data table notebook</a>'\n",
              "            + ' to learn more about interactive tables.';\n",
              "          element.innerHTML = '';\n",
              "          dataTable['output_type'] = 'display_data';\n",
              "          await google.colab.output.renderOutput(dataTable, element);\n",
              "          const docLink = document.createElement('div');\n",
              "          docLink.innerHTML = docLinkHtml;\n",
              "          element.appendChild(docLink);\n",
              "        }\n",
              "      </script>\n",
              "    </div>\n",
              "  </div>\n"
            ]
          },
          "metadata": {},
          "execution_count": 12
        }
      ],
      "source": [
        "# Merge the new variables into our data frame\n",
        "merged_data = pd.merge(merged_data, Int_rate, left_index=True, right_index=True, suffixes=('_merged', '_Int_rate'))\n",
        "merged_data = pd.merge(merged_data, Inflation_d, left_index=True, right_index=True, suffixes=('_merged', '_Inflation_d'))\n",
        "merged_data = pd.merge(merged_data, EPU_d, left_index=True, right_index=True, suffixes=('_merged', '_EPU_d'))\n",
        "merged_data.tail()"
      ]
    },
    {
      "cell_type": "code",
      "execution_count": null,
      "metadata": {
        "id": "y0r2aCO0LKRh"
      },
      "outputs": [],
      "source": [
        "# Save file to csv\n",
        "merged_data.to_csv('merged_data_with_datetime.csv')"
      ]
    }
  ],
  "metadata": {
    "colab": {
      "provenance": []
    },
    "kernelspec": {
      "display_name": "Python 3",
      "name": "python3"
    },
    "language_info": {
      "name": "python"
    }
  },
  "nbformat": 4,
  "nbformat_minor": 0
}